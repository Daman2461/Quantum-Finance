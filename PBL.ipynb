{
 "cells": [
  {
   "cell_type": "code",
   "execution_count": 117,
   "metadata": {},
   "outputs": [],
   "source": [
    "import numpy as np\n",
    "import pandas as pd\n",
    "import matplotlib.pyplot as plt\n",
    "import yfinance as yf\n",
    "from scipy.optimize import minimize\n",
    "from qiskit import QuantumCircuit, transpile\n",
    "from qiskit_aer import Aer,AerSimulator\n",
    "\n",
    "from qiskit_algorithms import AmplitudeEstimation\n",
    "\n",
    "from qiskit_algorithms.optimizers import SLSQP\n",
    " \n",
    "from qiskit.circuit.library import QFT\n",
    " \n",
    "\n",
    "#Step 1\n",
    "def load_stock_data(symbols, start_date, end_date):\n",
    "    data = yf.download(symbols, start=start_date, end=end_date)\n",
    "    returns = data['Adj Close'].pct_change().dropna()\n",
    "    return returns\n",
    "\n",
    "# Step 2: Classical\n",
    "def portfolio_performance(weights, mean_returns, cov_matrix):\n",
    "    portfolio_return = np.dot(weights, mean_returns)\n",
    "    portfolio_volatility = np.sqrt(np.dot(weights.T, np.dot(cov_matrix, weights)))\n",
    "    return portfolio_return, portfolio_volatility\n",
    "\n",
    "def negative_sharpe_ratio(weights, mean_returns, cov_matrix, risk_free_rate=0.01):\n",
    "    portfolio_return, portfolio_volatility = portfolio_performance(weights, mean_returns, cov_matrix)\n",
    "    return -((portfolio_return - risk_free_rate) / portfolio_volatility)\n",
    "\n",
    "def optimize_portfolio(returns):\n",
    "    mean_returns = returns.mean()\n",
    "    cov_matrix = returns.cov()\n",
    "    num_assets = len(mean_returns)\n",
    "    args = (mean_returns, cov_matrix)\n",
    "    \n",
    "    constraints = ({'type': 'eq', 'fun': lambda x: np.sum(x) - 1})  \n",
    "    bounds = tuple((0, 1) for _ in range(num_assets))\n",
    "    \n",
    "    result = minimize(negative_sharpe_ratio, num_assets * [1. / num_assets], args=args, \n",
    "                      method='SLSQP', bounds=bounds, constraints=constraints)\n",
    "    return result\n",
    "\n",
    "# Step 3: Quantum (incomplete)\n",
    "def quantum_amplitude_estimation(mean_returns, cov_matrix):\n",
    "    num_assets = len(mean_returns)\n",
    "\n",
    "    \n",
    "    circuit = QuantumCircuit(num_assets)\n",
    "    circuit.h(range(num_assets))  \n",
    "\n",
    "    \n",
    "    simulator = Aer.get_backend('aer_simulator')\n",
    "    transpiled_circuit = transpile(circuit, simulator)\n",
    "\n",
    "     \n",
    "    job = simulator.run(transpiled_circuit)\n",
    "    result = job.result()\n",
    "\n",
    "     \n",
    "    quantum_weights = np.random.dirichlet(np.ones(num_assets), size=1).flatten()\n",
    "    return quantum_weights\n",
    "\n",
    "\n",
    "\n",
    " \n",
    "\n",
    "\n",
    "def compare_results(classical_result, quantum_weights, mean_returns, cov_matrix, asset_labels):\n",
    "     \n",
    "    classical_weights = classical_result.x\n",
    "     \n",
    "    classical_return, classical_volatility = portfolio_performance(classical_weights, mean_returns, cov_matrix)\n",
    "\n",
    "     \n",
    "    quantum_return, quantum_volatility = portfolio_performance(quantum_weights, mean_returns, cov_matrix)\n",
    "\n",
    "     \n",
    "    bar_width = 0.35\n",
    "    index = np.arange(len(asset_labels))\n",
    "# Step 4: Visualization of Results\n",
    "    plt.bar(index, classical_weights, bar_width, label='Classical Optimization', alpha=0.7)\n",
    "    plt.bar(index + bar_width, quantum_weights, bar_width, label='Quantum Estimation', alpha=0.7)\n",
    "\n",
    "    plt.xlabel('Assets')\n",
    "    plt.ylabel('Weights')\n",
    "    plt.title('Portfolio Allocation Comparison')\n",
    "    plt.xticks(index + bar_width / 2, asset_labels)\n",
    "    plt.legend()\n",
    "    plt.tight_layout()\n",
    "    plt.show()\n"
   ]
  },
  {
   "cell_type": "code",
   "execution_count": 118,
   "metadata": {},
   "outputs": [
    {
     "name": "stderr",
     "output_type": "stream",
     "text": [
      "[*********************100%%**********************]  3 of 3 completed\n"
     ]
    },
    {
     "data": {
      "image/png": "[encoded data removed]",
      "text/plain": [
       "<Figure size 640x480 with 1 Axes>"
      ]
     },
     "metadata": {},
     "output_type": "display_data"
    }
   ],
   "source": [
    "\n",
    "from datetime import datetime\n",
    "symbols = ['AAPL', 'MSFT', 'GOOGL']  # Example stock symbols\n",
    "start_date = '2023-06-24'\n",
    "end_date = end_date = datetime.today().strftime('%Y-%m-%d')\n",
    "stock_returns = load_stock_data(symbols, start_date, end_date)\n",
    "\n",
    " \n",
    "classical_result = optimize_portfolio(stock_returns)\n",
    "\n",
    " \n",
    "mean_returns = stock_returns.mean()\n",
    "cov_matrix = stock_returns.cov()\n",
    "quantum_weights = quantum_amplitude_estimation(mean_returns, cov_matrix)\n",
    "\n",
    " \n",
    "compare_results(classical_result, quantum_weights, mean_returns, cov_matrix, symbols)\n"
   ]
  },
  {
   "cell_type": "code",
   "execution_count": null,
   "metadata": {},
   "outputs": [],
   "source": []
  },
  {
   "cell_type": "code",
   "execution_count": null,
   "metadata": {},
   "outputs": [],
   "source": []
  }
 ],
 "metadata": {
  "kernelspec": {
   "display_name": "last",
   "language": "python",
   "name": "python3"
  },
  "language_info": {
   "codemirror_mode": {
    "name": "ipython",
    "version": 3
   },
   "file_extension": ".py",
   "mimetype": "text/x-python",
   "name": "python",
   "nbconvert_exporter": "python",
   "pygments_lexer": "ipython3",
   "version": "3.8.15"
  }
 },
 "nbformat": 4,
 "nbformat_minor": 2
}
